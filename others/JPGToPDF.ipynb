{
 "cells": [
  {
   "cell_type": "markdown",
   "metadata": {},
   "source": [
    "## Converter jpg/png para PDF"
   ]
  },
  {
   "cell_type": "markdown",
   "metadata": {},
   "source": [
    "### One jpg/png to PDF"
   ]
  },
  {
   "cell_type": "code",
   "execution_count": 4,
   "metadata": {
    "collapsed": true
   },
   "outputs": [],
   "source": [
    "from PIL import Image\n",
    "\n",
    "im1 = Image.open(\"C:/Users/Jessica/Pictures/Digitalizações/Scanner.png\")\n",
    "im_list = [im1]\n",
    "\n",
    "pdf1_filename = \"C:/Users/Jessica/Desktop/01-Janeiro.pdf\"\n",
    "\n",
    "im1.save(pdf1_filename, \"PDF\" ,resolution=100.0, save_all=True, append_images=im_list)"
   ]
  },
  {
   "cell_type": "markdown",
   "metadata": {},
   "source": [
    "### A list of jpg/png to PDF"
   ]
  },
  {
   "cell_type": "code",
   "execution_count": 37,
   "metadata": {},
   "outputs": [],
   "source": [
    "import os, img2pdf\n",
    "\n",
    "path_images = 'C:/Users/Jessica/Pictures/Digitalizações'\n",
    "\n",
    "with open(\"output.pdf\", \"wb\") as f:\n",
    "    f.write(img2pdf.convert([p for p in sorted(os.listdir(path_images), key=lambda s: os.path.getmtime(os.path.join(path_images, s))) if p.endswith(\".jpg\")]))"
   ]
  }
 ],
 "metadata": {
  "kernelspec": {
   "display_name": "Python 3",
   "language": "python",
   "name": "python3"
  },
  "language_info": {
   "codemirror_mode": {
    "name": "ipython",
    "version": 3
   },
   "file_extension": ".py",
   "mimetype": "text/x-python",
   "name": "python",
   "nbconvert_exporter": "python",
   "pygments_lexer": "ipython3",
   "version": "3.6.3"
  }
 },
 "nbformat": 4,
 "nbformat_minor": 2
}
